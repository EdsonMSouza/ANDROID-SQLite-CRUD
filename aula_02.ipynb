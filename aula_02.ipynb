{
  "nbformat": 4,
  "nbformat_minor": 0,
  "metadata": {
    "colab": {
      "name": "aula_02.ipynb",
      "provenance": [],
      "collapsed_sections": [],
      "authorship_tag": "ABX9TyO4vue1mgaZagJyh9GRbrPJ",
      "include_colab_link": true
    },
    "kernelspec": {
      "name": "python3",
      "display_name": "Python 3"
    }
  },
  "cells": [
    {
      "cell_type": "markdown",
      "metadata": {
        "id": "view-in-github",
        "colab_type": "text"
      },
      "source": [
        "<a href=\"https://colab.research.google.com/github/EdsonMSouza/ANDROID-SQLite-CRUD/blob/master/aula_02.ipynb\" target=\"_parent\"><img src=\"https://colab.research.google.com/assets/colab-badge.svg\" alt=\"Open In Colab\"/></a>"
      ]
    },
    {
      "cell_type": "markdown",
      "metadata": {
        "id": "iUkmowUDQqG7",
        "colab_type": "text"
      },
      "source": [
        "<h1>Aula 02 - Conceitos Básicos de Python</h1>\n",
        "\n",
        "<p>Nesta aula veremos os conceitos iniciais, mas de grande importância para o desenvolvimento dos próximos passos.</p>\n",
        "\n",
        "<p>Conteúdo</p>\n",
        "<ul>\n",
        "  <li>Comando de saída de dados em tela: print()</li>\n",
        "  <li>Declaração e utilização de Variáveis</li>\n",
        "  <li>Operadores Aritméticos, Relacionais e Lógicos</li>\n",
        "  <li>Exercícios de fixação</li>\n",
        "</ul>\n",
        "\n"
      ]
    },
    {
      "cell_type": "markdown",
      "metadata": {
        "id": "NWKmVsK_SjiN",
        "colab_type": "text"
      },
      "source": [
        "<h3>Comando de <strong>saída</strong> de dados em tela: <strong>print()</strong></h3>\n",
        "\n"
      ]
    },
    {
      "cell_type": "code",
      "metadata": {
        "id": "b-rkIHr3S2FC",
        "colab_type": "code",
        "colab": {}
      },
      "source": [
        "# Isto é um comentário. Perceba que a linha está sendo iniciado com o \n",
        "# sinal \"#\" - jogo da velha, cerquilha ou \"Sharp\" em inglês\n",
        "# Para realizarmos uma saída de dados, ou seja, mostrar algo como resultado na \n",
        "# tela, usamos a função print(), conforme os exemplos a seguir:"
      ],
      "execution_count": 0,
      "outputs": []
    },
    {
      "cell_type": "code",
      "metadata": {
        "id": "OQyMs6jPTjwm",
        "colab_type": "code",
        "cellView": "both",
        "colab": {}
      },
      "source": [
        "# Exmplo 1\n",
        "# A função print() recebe como parâmetro o valor a ser exibido na tela.\n",
        "# Quando o valor for um \"texto\", deverá estar entre aspas simples ou dupla\n",
        "print(\"Disciplina - Ciência de Dados\") # aqui sendo usada aspas duplas"
      ],
      "execution_count": 0,
      "outputs": []
    },
    {
      "cell_type": "code",
      "metadata": {
        "id": "CB_DI6BYTmUW",
        "colab_type": "code",
        "colab": {}
      },
      "source": [
        "# Exemplo 2\n",
        "print('Disciplina - Ciência de Dados') # neste exemplo com aspas simples"
      ],
      "execution_count": 0,
      "outputs": []
    },
    {
      "cell_type": "code",
      "metadata": {
        "id": "dBBzWlX5TpaL",
        "colab_type": "code",
        "colab": {}
      },
      "source": [
        "# Exemplo 3\n",
        "# A função print() também aceita concatenações utilizando o sinal de \n",
        "# soma \"+\", permitindo a junção de valores\n",
        "print(\"Disciplina - \" + \"Ciência de Dados\")"
      ],
      "execution_count": 0,
      "outputs": []
    },
    {
      "cell_type": "code",
      "metadata": {
        "id": "1jTLb3pAWwmO",
        "colab_type": "code",
        "colab": {}
      },
      "source": [
        "# Exemplo 4\n",
        "# Também é possível realizar a concatenação por meio de parâmetros da função print().\n",
        "print(\"Disciplina\", \"-\", \"Ciência de Dados\")"
      ],
      "execution_count": 0,
      "outputs": []
    },
    {
      "cell_type": "code",
      "metadata": {
        "id": "t7rQlGU6XDhF",
        "colab_type": "code",
        "colab": {}
      },
      "source": [
        "# Exemplo 5\n",
        "# Assim como podemos concatenar textos por meio dos parâmetros, \n",
        "# também é possível usarmos números.\n",
        "print(\"Hoje é dia\", 25, \"de março de\", 2020)"
      ],
      "execution_count": 0,
      "outputs": []
    },
    {
      "cell_type": "code",
      "metadata": {
        "id": "9z8XlFH6YA_y",
        "colab_type": "code",
        "colab": {}
      },
      "source": [
        "# Existem diversas outras possibilidades que podem ser exploradas com a \n",
        "# utilização do print() que veremos mais adiante durante as aulas."
      ],
      "execution_count": 0,
      "outputs": []
    },
    {
      "cell_type": "markdown",
      "metadata": {
        "colab_type": "text",
        "id": "afJSK97vcTFx"
      },
      "source": [
        "<h3>Variáveis</strong></h3>\n",
        "\n"
      ]
    },
    {
      "cell_type": "code",
      "metadata": {
        "id": "yx1iDzyuY6I-",
        "colab_type": "code",
        "colab": {}
      },
      "source": [
        "# Na programação o uso de variáveis é indispensável, pois são nelas que guardamos valores para poderem ser manipulados\n",
        "# Em Python não há a necessidade especificar que tipo uma variável deve ser, pois a própria linguagem reconhece o tipo de acordo com o valor atribuído.\n",
        "# Python é Case Sensitive, ou seja, diferencia letras maiúsculas de minúsculas\n",
        "# Para definirmos o nome de variáveis, temos que iniciar utilizando um caractere que esteja no \n",
        "# intervalo de a à z ou A à Z. A única exceção a esta regra é o caractere underscore \"_\"\n",
        "# Podemos utilizar números, desde que seja o segundo caractere da sequência.\n",
        "# Também é desejável e prudente que os nomes tenham relação com o seu significado.\n",
        "#\n",
        "# Vejamos alguns exemplos:"
      ],
      "execution_count": 0,
      "outputs": []
    },
    {
      "cell_type": "code",
      "metadata": {
        "id": "nITi9FobeHp8",
        "colab_type": "code",
        "colab": {}
      },
      "source": [
        "x = 10          # inteiro\n",
        "y = 10.2        # float\n",
        "nome = \"Edson\"  # string"
      ],
      "execution_count": 0,
      "outputs": []
    },
    {
      "cell_type": "code",
      "metadata": {
        "id": "TN6QFkhjejDt",
        "colab_type": "code",
        "colab": {}
      },
      "source": [
        "# Para mostrarmos o valor de variáveis, utilizamos a função print(), \n",
        "# como visto anteriormente nos exemplos.\n",
        "print(x)\n",
        "print(y)\n",
        "print(nome)"
      ],
      "execution_count": 0,
      "outputs": []
    },
    {
      "cell_type": "code",
      "metadata": {
        "id": "l7k8Fp-Uerht",
        "colab_type": "code",
        "colab": {}
      },
      "source": [
        "# Também podemos incrementar a saída usando o caracter especial \"%\".\n",
        "# Ele permite que seja feita uma formatação nos números.\n",
        "print(\"O valor da variável 'y' é: %.10f\" %y)"
      ],
      "execution_count": 0,
      "outputs": []
    },
    {
      "cell_type": "code",
      "metadata": {
        "id": "8ao0UxhBe-3i",
        "colab_type": "code",
        "colab": {}
      },
      "source": [
        "# Em algumas situações é necessária a concatenação de números com texto, \n",
        "# o que causará um erro. Neste caso podemos usar a função str() que converte \n",
        "# um número em texto.\n",
        "# Vejamos o exemplo, que causará um erro inicialmente:\n",
        "\n",
        "var_numerica = 25\n",
        "var_string = \"Hoje é dia \"\n",
        "\n",
        "print(var_string + var_numerica)"
      ],
      "execution_count": 0,
      "outputs": []
    },
    {
      "cell_type": "code",
      "metadata": {
        "id": "BP_ZtEXKgiaQ",
        "colab_type": "code",
        "colab": {}
      },
      "source": [
        "# O erro ocorreu devido a junção de um número com texto.\n",
        "# O correto é fazermos a conversão da seguinte forma usando a função str():\n",
        "print(var_string + str(var_numerica))"
      ],
      "execution_count": 0,
      "outputs": []
    },
    {
      "cell_type": "code",
      "metadata": {
        "id": "UpbZYhkhgzBE",
        "colab_type": "code",
        "colab": {}
      },
      "source": [
        "# E se precisarmos realizar uma concatenação onde um número estará \"no meio\" do texto?\n",
        "var_nome = \"Edson Melo tem\"\n",
        "var_idade = 49\n",
        "var_complemento = \"anos\""
      ],
      "execution_count": 0,
      "outputs": []
    },
    {
      "cell_type": "code",
      "metadata": {
        "id": "922L4XnLhPzS",
        "colab_type": "code",
        "colab": {}
      },
      "source": [
        "# Primeira forma\n",
        "print(var_nome, var_idade, var_complemento)"
      ],
      "execution_count": 0,
      "outputs": []
    },
    {
      "cell_type": "code",
      "metadata": {
        "id": "hI1sedJdhYDx",
        "colab_type": "code",
        "colab": {}
      },
      "source": [
        "# Segunda forma: mais sofisticada\n",
        "contenacao_formatada = '{0} {1} {2}'\n",
        "print(contenacao_formatada.format(var_nome, var_idade, var_complemento))"
      ],
      "execution_count": 0,
      "outputs": []
    },
    {
      "cell_type": "markdown",
      "metadata": {
        "id": "5M1BA2U1iwoG",
        "colab_type": "text"
      },
      "source": [
        "<h3>Operadores Aritméticos, Relacionais e Lógicos</h3>\n"
      ]
    },
    {
      "cell_type": "markdown",
      "metadata": {
        "id": "j6IrGkpVi31-",
        "colab_type": "text"
      },
      "source": [
        "<h4>Operadores Aritméticos</h4>\n"
      ]
    },
    {
      "cell_type": "markdown",
      "metadata": {
        "id": "PZbiSVnFjQli",
        "colab_type": "text"
      },
      "source": [
        "| Operação      | Operador |\n",
        "|---------------|:--------:|\n",
        "| Adição        |     +    |\n",
        "| Subtração     |     -    |\n",
        "| Multiplicação |     *    |\n",
        "| Divisão       |     /    |\n",
        "| Exponenciação |    **    |\n",
        "| Parte Inteira |    //    |\n",
        "| Módulo        |     %    |"
      ]
    },
    {
      "cell_type": "code",
      "metadata": {
        "id": "Qe83OEH2kPw6",
        "colab_type": "code",
        "colab": {}
      },
      "source": [
        "# Exemplos com variáveis\n",
        "a = 10\n",
        "b = 2\n",
        "c = 3"
      ],
      "execution_count": 0,
      "outputs": []
    },
    {
      "cell_type": "code",
      "metadata": {
        "id": "YrmzCtYzkXHT",
        "colab_type": "code",
        "colab": {}
      },
      "source": [
        "# Adição\n",
        "print(a + b)"
      ],
      "execution_count": 0,
      "outputs": []
    },
    {
      "cell_type": "code",
      "metadata": {
        "id": "ov5XnQLKkhFf",
        "colab_type": "code",
        "colab": {}
      },
      "source": [
        "# Subtração\n",
        "print(a - b)"
      ],
      "execution_count": 0,
      "outputs": []
    },
    {
      "cell_type": "code",
      "metadata": {
        "id": "NIjG86O2kkFQ",
        "colab_type": "code",
        "colab": {}
      },
      "source": [
        "# Multiplicação\n",
        "print(a * b)"
      ],
      "execution_count": 0,
      "outputs": []
    },
    {
      "cell_type": "code",
      "metadata": {
        "id": "QrI66osukn7e",
        "colab_type": "code",
        "colab": {}
      },
      "source": [
        "# Divisão\n",
        "print(a / b)"
      ],
      "execution_count": 0,
      "outputs": []
    },
    {
      "cell_type": "code",
      "metadata": {
        "id": "O8eve2ikkqAi",
        "colab_type": "code",
        "colab": {}
      },
      "source": [
        "# Exponenciação\n",
        "print(a ** b)"
      ],
      "execution_count": 0,
      "outputs": []
    },
    {
      "cell_type": "code",
      "metadata": {
        "id": "mcxBCINgkt17",
        "colab_type": "code",
        "colab": {}
      },
      "source": [
        "# Parte inteira\n",
        "print( a // c) # Somente a parte inteira de \"a\" dividido por \"b\""
      ],
      "execution_count": 0,
      "outputs": []
    },
    {
      "cell_type": "code",
      "metadata": {
        "id": "fxBNg7Lsk6KL",
        "colab_type": "code",
        "colab": {}
      },
      "source": [
        "# Se fosse a divisão normal, o resultado seria\n",
        "print(a / b)"
      ],
      "execution_count": 0,
      "outputs": []
    },
    {
      "cell_type": "code",
      "metadata": {
        "id": "PadZxgwVlKCS",
        "colab_type": "code",
        "colab": {}
      },
      "source": [
        "# Módulo ou resto da divisão. É a parte que sobra de uma divisão, o resto.\n",
        "# Esse operador é muito utilizado para descobrir quando um número é par ou ímpar.\n",
        "print(a % b) # 10/2 -> restou zero"
      ],
      "execution_count": 0,
      "outputs": []
    },
    {
      "cell_type": "code",
      "metadata": {
        "id": "HEUNglEtlWda",
        "colab_type": "code",
        "colab": {}
      },
      "source": [
        "# Outro exemplo\n",
        "print(3 % 2) # restou 1"
      ],
      "execution_count": 0,
      "outputs": []
    },
    {
      "cell_type": "markdown",
      "metadata": {
        "id": "u3RB4237lxG7",
        "colab_type": "text"
      },
      "source": [
        "<h4>Operadores Relacionais</h4>"
      ]
    },
    {
      "cell_type": "markdown",
      "metadata": {
        "id": "sm2Lyg2cnHuJ",
        "colab_type": "text"
      },
      "source": [
        "| Descrição        | Operador |\n",
        "|------------------|:--------:|\n",
        "| Maior que        |     >    |\n",
        "| Menor que        |     <    |\n",
        "| Igual a          |    ==    |\n",
        "| Maior ou igual a |    >=    |\n",
        "| Menor ou igual a |    <=    |\n",
        "| Diferente        |    !=    |"
      ]
    },
    {
      "cell_type": "code",
      "metadata": {
        "id": "dQHh5ABJnPd1",
        "colab_type": "code",
        "colab": {}
      },
      "source": [
        "# Exemplos com variáveis\n",
        "a = 10\n",
        "b = 35\n",
        "c = 12"
      ],
      "execution_count": 0,
      "outputs": []
    },
    {
      "cell_type": "code",
      "metadata": {
        "id": "274qlOHPnbJw",
        "colab_type": "code",
        "colab": {}
      },
      "source": [
        "# Podemos também mostrar um saída sem o uso do print(). Vejamos:\n",
        "a < b # 10 < 35 -> resulta em True (Verdadeiro)"
      ],
      "execution_count": 0,
      "outputs": []
    },
    {
      "cell_type": "code",
      "metadata": {
        "id": "UbW77Vrhnmjy",
        "colab_type": "code",
        "colab": {}
      },
      "source": [
        "a > c # resulta em False (Falso)"
      ],
      "execution_count": 0,
      "outputs": []
    },
    {
      "cell_type": "code",
      "metadata": {
        "id": "JVcjBswenz7q",
        "colab_type": "code",
        "colab": {}
      },
      "source": [
        "# Os operadores relacionais são muito utilizados quando temos que tomar decisões.\n",
        "# Veremos isso na próxima aula"
      ],
      "execution_count": 0,
      "outputs": []
    },
    {
      "cell_type": "markdown",
      "metadata": {
        "id": "LbJOX4iOoNz2",
        "colab_type": "text"
      },
      "source": [
        "<h4>Operadores Lógicos</h4>"
      ]
    },
    {
      "cell_type": "code",
      "metadata": {
        "id": "bxiyp3pVoPle",
        "colab_type": "code",
        "colab": {}
      },
      "source": [
        "# Esses operadores permitem unir 2 expressões ligando-as com os \n",
        "# conectivos lógicos matemáticos que são, o conectivo E e o conectivo OU.\n",
        "# Vejamos exemplos"
      ],
      "execution_count": 0,
      "outputs": []
    },
    {
      "cell_type": "code",
      "metadata": {
        "id": "60aPP-J5olUn",
        "colab_type": "code",
        "colab": {}
      },
      "source": [
        "x = 1\n",
        "(x > 0) and (x < 100)"
      ],
      "execution_count": 0,
      "outputs": []
    },
    {
      "cell_type": "code",
      "metadata": {
        "id": "k8nQUn8RosNH",
        "colab_type": "code",
        "colab": {}
      },
      "source": [
        "x = 1\n",
        "(x > 0) or (x < 100)"
      ],
      "execution_count": 0,
      "outputs": []
    },
    {
      "cell_type": "code",
      "metadata": {
        "id": "ek8Fnzynov0E",
        "colab_type": "code",
        "colab": {}
      },
      "source": [
        "x = 1\n",
        "(x > 0) and (x < 10)"
      ],
      "execution_count": 0,
      "outputs": []
    },
    {
      "cell_type": "code",
      "metadata": {
        "id": "akvzY6fRoy2_",
        "colab_type": "code",
        "colab": {}
      },
      "source": [
        "x = 0\n",
        "(x > 0) or (x < 10)"
      ],
      "execution_count": 0,
      "outputs": []
    },
    {
      "cell_type": "code",
      "metadata": {
        "id": "l_kmTM2qo3Ok",
        "colab_type": "code",
        "colab": {}
      },
      "source": [
        "x = 0\n",
        "(x > 0) and (x < 10)"
      ],
      "execution_count": 0,
      "outputs": []
    },
    {
      "cell_type": "markdown",
      "metadata": {
        "id": "xKggQ3bCqInX",
        "colab_type": "text"
      },
      "source": [
        "<h3>Tabela Verdade</h3>\n",
        "\n",
        "|   A   |   B   | A and B | A or B |\n",
        "|:-----:|:-----:|:-------:|:------:|\n",
        "|  True |  True |   True  |  True  |\n",
        "|  True | False |  False  |  True  |\n",
        "| False |  True |  False  |  True  |\n",
        "| False | False |  False  |  False |"
      ]
    },
    {
      "cell_type": "markdown",
      "metadata": {
        "id": "4TJutIL0qUTk",
        "colab_type": "text"
      },
      "source": [
        "<h1>Exercícios</h1>"
      ]
    },
    {
      "cell_type": "markdown",
      "metadata": {
        "id": "hoIyWH-wqvkG",
        "colab_type": "text"
      },
      "source": [
        "\n",
        "\n",
        "1.   Implemente um programa que escreve na tela a frase \"Meu primeiro programa em Python!!!\".\n",
        "2.   Você foi contratado por uma escola pra fazer o sistema de boletim dos alunos. Como primeiro passo, escreva um programa que produza a seguinte saída (Não é necessário manter o alinhamento):\n",
        "\n",
        "| Aluno(a)        \t|  Nota \t|\n",
        "|-----------------\t|------:\t|\n",
        "| Ana Maria       \t|  9.00 \t|\n",
        "| José Carlos     \t|  7.20 \t|\n",
        "| Júlio Martins   \t|  8.00 \t|\n",
        "| Ubiratan Santos \t| 10.00 \t|\n",
        "\n",
        "3. Utilizando <strong>variáveis</strong>, faça um programa para realizar o seguinte cálculo:\n",
        "10 + 20 - 30 + (45 * 3) / 8 ** 2"
      ]
    },
    {
      "cell_type": "code",
      "metadata": {
        "id": "UDWiOZSYsrsO",
        "colab_type": "code",
        "colab": {}
      },
      "source": [
        "# Respostas\n",
        "\n",
        "# 1.\n",
        "print(\"Meu primeiro programa em Python!!!\")\n",
        "\n",
        "# 2.\n",
        "print(\"Aluno\", \"Nota\")\n",
        "print(\"Ana Maria %.2f\" %9.0)\n",
        "print(\"José Carlos %.2f\" %7.2)\n",
        "print(\"Júlio Martins %.2f\" %8.0)\n",
        "print(\"Ubiratan Santos %.2f\" %10.0)"
      ],
      "execution_count": 0,
      "outputs": []
    },
    {
      "cell_type": "code",
      "metadata": {
        "id": "4_OQ0R7Qs4Zd",
        "colab_type": "code",
        "colab": {}
      },
      "source": [
        "print(f\"Ana Maria \\t{9.0:>5,.02f}\")\n",
        "print(f\"José Carlos \\t{7.2:>5,.02f}\")\n",
        "print(f\"Júlio Martins \\t{8:>5,.02f}\")\n",
        "print(f\"Ubiratan Santos {10.0:>5,.02f}\")"
      ],
      "execution_count": 0,
      "outputs": []
    },
    {
      "cell_type": "code",
      "metadata": {
        "id": "1VYJRGbauRM2",
        "colab_type": "code",
        "colab": {}
      },
      "source": [
        "# 3.\n",
        "v1 = 10\n",
        "v2 = 20\n",
        "v3 = 30\n",
        "v4 = 45\n",
        "v5 = 3\n",
        "v6 = 8\n",
        "v7 = 2\n",
        "# 10 + 20 - 30 + (45 * 3) / 8 ** 2\n",
        "\n",
        "print( v1 + v2 - v3 + (v4 * v5) / v6 ** v7 )\n"
      ],
      "execution_count": 0,
      "outputs": []
    }
  ]
}